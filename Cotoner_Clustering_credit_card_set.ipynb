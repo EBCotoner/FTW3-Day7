{
  "nbformat": 4,
  "nbformat_minor": 0,
  "metadata": {
    "colab": {
      "name": "Cotoner_Clustering credit card set.ipynb",
      "provenance": []
    },
    "kernelspec": {
      "name": "python3",
      "display_name": "Python 3"
    }
  },
  "cells": [
    {
      "cell_type": "code",
      "metadata": {
        "id": "AWA79_ZStC93",
        "colab_type": "code",
        "colab": {}
      },
      "source": [
        "import pandas as pd\n",
        "import numpy as np\n",
        "import matplotlib.pyplot as plt\n",
        "import seaborn as sns"
      ],
      "execution_count": 0,
      "outputs": []
    },
    {
      "cell_type": "code",
      "metadata": {
        "id": "xSFLst_GtIeB",
        "colab_type": "code",
        "colab": {}
      },
      "source": [
        "data = pd.read_csv(\"credit_card_clustering.csv\")"
      ],
      "execution_count": 0,
      "outputs": []
    },
    {
      "cell_type": "code",
      "metadata": {
        "id": "4OC0toADtuiD",
        "colab_type": "code",
        "colab": {
          "base_uri": "https://localhost:8080/",
          "height": 224
        },
        "outputId": "578220c8-b2b7-429b-a837-fac52b55524d"
      },
      "source": [
        "data.head()"
      ],
      "execution_count": 44,
      "outputs": [
        {
          "output_type": "execute_result",
          "data": {
            "text/html": [
              "<div>\n",
              "<style scoped>\n",
              "    .dataframe tbody tr th:only-of-type {\n",
              "        vertical-align: middle;\n",
              "    }\n",
              "\n",
              "    .dataframe tbody tr th {\n",
              "        vertical-align: top;\n",
              "    }\n",
              "\n",
              "    .dataframe thead th {\n",
              "        text-align: right;\n",
              "    }\n",
              "</style>\n",
              "<table border=\"1\" class=\"dataframe\">\n",
              "  <thead>\n",
              "    <tr style=\"text-align: right;\">\n",
              "      <th></th>\n",
              "      <th>CUST_ID</th>\n",
              "      <th>BALANCE</th>\n",
              "      <th>BALANCE_FREQUENCY</th>\n",
              "      <th>PURCHASES</th>\n",
              "      <th>ONEOFF_PURCHASES</th>\n",
              "      <th>INSTALLMENTS_PURCHASES</th>\n",
              "      <th>CASH_ADVANCE</th>\n",
              "      <th>PURCHASES_FREQUENCY</th>\n",
              "      <th>ONEOFF_PURCHASES_FREQUENCY</th>\n",
              "      <th>PURCHASES_INSTALLMENTS_FREQUENCY</th>\n",
              "      <th>CASH_ADVANCE_FREQUENCY</th>\n",
              "      <th>CASH_ADVANCE_TRX</th>\n",
              "      <th>PURCHASES_TRX</th>\n",
              "      <th>CREDIT_LIMIT</th>\n",
              "      <th>PAYMENTS</th>\n",
              "      <th>MINIMUM_PAYMENTS</th>\n",
              "      <th>PRC_FULL_PAYMENT</th>\n",
              "      <th>TENURE</th>\n",
              "    </tr>\n",
              "  </thead>\n",
              "  <tbody>\n",
              "    <tr>\n",
              "      <th>0</th>\n",
              "      <td>C10001</td>\n",
              "      <td>40.900749</td>\n",
              "      <td>0.818182</td>\n",
              "      <td>95.40</td>\n",
              "      <td>0.00</td>\n",
              "      <td>95.4</td>\n",
              "      <td>0.000000</td>\n",
              "      <td>0.166667</td>\n",
              "      <td>0.000000</td>\n",
              "      <td>0.083333</td>\n",
              "      <td>0.000000</td>\n",
              "      <td>0</td>\n",
              "      <td>2</td>\n",
              "      <td>1000.0</td>\n",
              "      <td>201.802084</td>\n",
              "      <td>139.509787</td>\n",
              "      <td>0.000000</td>\n",
              "      <td>12</td>\n",
              "    </tr>\n",
              "    <tr>\n",
              "      <th>1</th>\n",
              "      <td>C10002</td>\n",
              "      <td>3202.467416</td>\n",
              "      <td>0.909091</td>\n",
              "      <td>0.00</td>\n",
              "      <td>0.00</td>\n",
              "      <td>0.0</td>\n",
              "      <td>6442.945483</td>\n",
              "      <td>0.000000</td>\n",
              "      <td>0.000000</td>\n",
              "      <td>0.000000</td>\n",
              "      <td>0.250000</td>\n",
              "      <td>4</td>\n",
              "      <td>0</td>\n",
              "      <td>7000.0</td>\n",
              "      <td>4103.032597</td>\n",
              "      <td>1072.340217</td>\n",
              "      <td>0.222222</td>\n",
              "      <td>12</td>\n",
              "    </tr>\n",
              "    <tr>\n",
              "      <th>2</th>\n",
              "      <td>C10003</td>\n",
              "      <td>2495.148862</td>\n",
              "      <td>1.000000</td>\n",
              "      <td>773.17</td>\n",
              "      <td>773.17</td>\n",
              "      <td>0.0</td>\n",
              "      <td>0.000000</td>\n",
              "      <td>1.000000</td>\n",
              "      <td>1.000000</td>\n",
              "      <td>0.000000</td>\n",
              "      <td>0.000000</td>\n",
              "      <td>0</td>\n",
              "      <td>12</td>\n",
              "      <td>7500.0</td>\n",
              "      <td>622.066742</td>\n",
              "      <td>627.284787</td>\n",
              "      <td>0.000000</td>\n",
              "      <td>12</td>\n",
              "    </tr>\n",
              "    <tr>\n",
              "      <th>3</th>\n",
              "      <td>C10004</td>\n",
              "      <td>1666.670542</td>\n",
              "      <td>0.636364</td>\n",
              "      <td>1499.00</td>\n",
              "      <td>1499.00</td>\n",
              "      <td>0.0</td>\n",
              "      <td>205.788017</td>\n",
              "      <td>0.083333</td>\n",
              "      <td>0.083333</td>\n",
              "      <td>0.000000</td>\n",
              "      <td>0.083333</td>\n",
              "      <td>1</td>\n",
              "      <td>1</td>\n",
              "      <td>7500.0</td>\n",
              "      <td>0.000000</td>\n",
              "      <td>NaN</td>\n",
              "      <td>0.000000</td>\n",
              "      <td>12</td>\n",
              "    </tr>\n",
              "    <tr>\n",
              "      <th>4</th>\n",
              "      <td>C10005</td>\n",
              "      <td>817.714335</td>\n",
              "      <td>1.000000</td>\n",
              "      <td>16.00</td>\n",
              "      <td>16.00</td>\n",
              "      <td>0.0</td>\n",
              "      <td>0.000000</td>\n",
              "      <td>0.083333</td>\n",
              "      <td>0.083333</td>\n",
              "      <td>0.000000</td>\n",
              "      <td>0.000000</td>\n",
              "      <td>0</td>\n",
              "      <td>1</td>\n",
              "      <td>1200.0</td>\n",
              "      <td>678.334763</td>\n",
              "      <td>244.791237</td>\n",
              "      <td>0.000000</td>\n",
              "      <td>12</td>\n",
              "    </tr>\n",
              "  </tbody>\n",
              "</table>\n",
              "</div>"
            ],
            "text/plain": [
              "  CUST_ID      BALANCE  ...  PRC_FULL_PAYMENT  TENURE\n",
              "0  C10001    40.900749  ...          0.000000      12\n",
              "1  C10002  3202.467416  ...          0.222222      12\n",
              "2  C10003  2495.148862  ...          0.000000      12\n",
              "3  C10004  1666.670542  ...          0.000000      12\n",
              "4  C10005   817.714335  ...          0.000000      12\n",
              "\n",
              "[5 rows x 18 columns]"
            ]
          },
          "metadata": {
            "tags": []
          },
          "execution_count": 44
        }
      ]
    },
    {
      "cell_type": "code",
      "metadata": {
        "id": "MMZ_og_VtwQ4",
        "colab_type": "code",
        "colab": {
          "base_uri": "https://localhost:8080/",
          "height": 34
        },
        "outputId": "d944c45d-bbb2-4fc1-fedd-b1ba10843c31"
      },
      "source": [
        "data.shape"
      ],
      "execution_count": 45,
      "outputs": [
        {
          "output_type": "execute_result",
          "data": {
            "text/plain": [
              "(8950, 18)"
            ]
          },
          "metadata": {
            "tags": []
          },
          "execution_count": 45
        }
      ]
    },
    {
      "cell_type": "code",
      "metadata": {
        "id": "eo8McfQNty4g",
        "colab_type": "code",
        "colab": {
          "base_uri": "https://localhost:8080/",
          "height": 34
        },
        "outputId": "aa66671d-9891-45df-9143-5760cc1b6f83"
      },
      "source": [
        "data['CUST_ID'].nunique()"
      ],
      "execution_count": 46,
      "outputs": [
        {
          "output_type": "execute_result",
          "data": {
            "text/plain": [
              "8950"
            ]
          },
          "metadata": {
            "tags": []
          },
          "execution_count": 46
        }
      ]
    },
    {
      "cell_type": "code",
      "metadata": {
        "id": "eKpnU7Zwt1dI",
        "colab_type": "code",
        "colab": {
          "base_uri": "https://localhost:8080/",
          "height": 272
        },
        "outputId": "b59cf5d0-662e-4a15-b771-4ae9a0f18834"
      },
      "source": [
        "data['BALANCE'].describe(np.arange(0.1, 1, 0.1))"
      ],
      "execution_count": 47,
      "outputs": [
        {
          "output_type": "execute_result",
          "data": {
            "text/plain": [
              "count     8950.000000\n",
              "mean      1564.474828\n",
              "std       2081.531879\n",
              "min          0.000000\n",
              "10%         23.575529\n",
              "20%         77.238026\n",
              "30%        207.176552\n",
              "40%        467.021989\n",
              "50%        873.385231\n",
              "60%       1207.815587\n",
              "70%       1698.588855\n",
              "80%       2571.434263\n",
              "90%       4338.563657\n",
              "max      19043.138560\n",
              "Name: BALANCE, dtype: float64"
            ]
          },
          "metadata": {
            "tags": []
          },
          "execution_count": 47
        }
      ]
    },
    {
      "cell_type": "code",
      "metadata": {
        "id": "xVrjrCnaztCX",
        "colab_type": "code",
        "colab": {
          "base_uri": "https://localhost:8080/",
          "height": 296
        },
        "outputId": "d86eb2ec-4126-4b76-80b5-5c5fcc58cd43"
      },
      "source": [
        "sns.distplot(data['BALANCE'], kde=False)"
      ],
      "execution_count": 48,
      "outputs": [
        {
          "output_type": "execute_result",
          "data": {
            "text/plain": [
              "<matplotlib.axes._subplots.AxesSubplot at 0x7fc05cb1fda0>"
            ]
          },
          "metadata": {
            "tags": []
          },
          "execution_count": 48
        },
        {
          "output_type": "display_data",
          "data": {
            "image/png": "[encoded data removed]",
            "text/plain": [
              "<Figure size 432x288 with 1 Axes>"
            ]
          },
          "metadata": {
            "tags": []
          }
        }
      ]
    },
    {
      "cell_type": "code",
      "metadata": {
        "id": "YJpA4m8Eum_o",
        "colab_type": "code",
        "colab": {
          "base_uri": "https://localhost:8080/",
          "height": 272
        },
        "outputId": "d7f3e778-a130-465b-c49e-9904b4744c89"
      },
      "source": [
        "data['PURCHASES'].describe(np.arange(0.1, 1, 0.1))"
      ],
      "execution_count": 99,
      "outputs": [
        {
          "output_type": "execute_result",
          "data": {
            "text/plain": [
              "count     8950.000000\n",
              "mean      1003.204834\n",
              "std       2136.634782\n",
              "min          0.000000\n",
              "10%          0.000000\n",
              "20%          0.000000\n",
              "30%         89.285000\n",
              "40%        212.850000\n",
              "50%        361.280000\n",
              "60%        557.546000\n",
              "70%        894.316000\n",
              "80%       1422.438000\n",
              "90%       2542.624000\n",
              "max      49039.570000\n",
              "Name: PURCHASES, dtype: float64"
            ]
          },
          "metadata": {
            "tags": []
          },
          "execution_count": 99
        }
      ]
    },
    {
      "cell_type": "code",
      "metadata": {
        "id": "j0_PoCzxDDRT",
        "colab_type": "code",
        "colab": {
          "base_uri": "https://localhost:8080/",
          "height": 296
        },
        "outputId": "653f9ef3-c7ea-4c25-c70e-ae6eed9bfa77"
      },
      "source": [
        " sns.distplot(data['PURCHASES'], kde=False)"
      ],
      "execution_count": 100,
      "outputs": [
        {
          "output_type": "execute_result",
          "data": {
            "text/plain": [
              "<matplotlib.axes._subplots.AxesSubplot at 0x7fc05c93b470>"
            ]
          },
          "metadata": {
            "tags": []
          },
          "execution_count": 100
        },
        {
          "output_type": "display_data",
          "data": {
            "image/png": "[encoded data removed]",
            "text/plain": [
              "<Figure size 432x288 with 1 Axes>"
            ]
          },
          "metadata": {
            "tags": []
          }
        }
      ]
    },
    {
      "cell_type": "code",
      "metadata": {
        "id": "vOCBhrrfwy96",
        "colab_type": "code",
        "colab": {
          "base_uri": "https://localhost:8080/",
          "height": 272
        },
        "outputId": "d36a7f71-057f-4c9a-efc0-650c8499f2a7"
      },
      "source": [
        "data['PRC_FULL_PAYMENT'].describe(np.arange(0.1, 1, 0.1))"
      ],
      "execution_count": 87,
      "outputs": [
        {
          "output_type": "execute_result",
          "data": {
            "text/plain": [
              "count    8950.000000\n",
              "mean        0.153715\n",
              "std         0.292499\n",
              "min         0.000000\n",
              "10%         0.000000\n",
              "20%         0.000000\n",
              "30%         0.000000\n",
              "40%         0.000000\n",
              "50%         0.000000\n",
              "60%         0.000000\n",
              "70%         0.083333\n",
              "80%         0.250000\n",
              "90%         0.670000\n",
              "max         1.000000\n",
              "Name: PRC_FULL_PAYMENT, dtype: float64"
            ]
          },
          "metadata": {
            "tags": []
          },
          "execution_count": 87
        }
      ]
    },
    {
      "cell_type": "code",
      "metadata": {
        "id": "XoaWMSf0xCPP",
        "colab_type": "code",
        "colab": {
          "base_uri": "https://localhost:8080/",
          "height": 297
        },
        "outputId": "f5c880d2-505b-417f-ce02-edd0bc73392b"
      },
      "source": [
        "sns.distplot(data['PRC_FULL_PAYMENT'], kde=False)"
      ],
      "execution_count": 88,
      "outputs": [
        {
          "output_type": "execute_result",
          "data": {
            "text/plain": [
              "<matplotlib.axes._subplots.AxesSubplot at 0x7fc05c570828>"
            ]
          },
          "metadata": {
            "tags": []
          },
          "execution_count": 88
        },
        {
          "output_type": "display_data",
          "data": {
            "image/png": "[encoded data removed]",
            "text/plain": [
              "<Figure size 432x288 with 1 Axes>"
            ]
          },
          "metadata": {
            "tags": []
          }
        }
      ]
    },
    {
      "cell_type": "code",
      "metadata": {
        "id": "lF4vhaVWz9_J",
        "colab_type": "code",
        "colab": {}
      },
      "source": [
        "from sklearn.cluster import KMeans"
      ],
      "execution_count": 0,
      "outputs": []
    },
    {
      "cell_type": "code",
      "metadata": {
        "id": "bkhgJj8y45cy",
        "colab_type": "code",
        "colab": {
          "base_uri": "https://localhost:8080/",
          "height": 204
        },
        "outputId": "f22f008c-ecf9-4298-a6f5-d7859f13e429"
      },
      "source": [
        "# Get features we need\n",
        "features = ['BALANCE', 'PURCHASES', 'PRC_FULL_PAYMENT']\n",
        "X = data[features]\n",
        "\n",
        "# Convert categorical to numeric\n",
        "# X = pd.get_dummies(X_raw)\n",
        "# X_raw.head()\n",
        "\n",
        "X.head()"
      ],
      "execution_count": 101,
      "outputs": [
        {
          "output_type": "execute_result",
          "data": {
            "text/html": [
              "<div>\n",
              "<style scoped>\n",
              "    .dataframe tbody tr th:only-of-type {\n",
              "        vertical-align: middle;\n",
              "    }\n",
              "\n",
              "    .dataframe tbody tr th {\n",
              "        vertical-align: top;\n",
              "    }\n",
              "\n",
              "    .dataframe thead th {\n",
              "        text-align: right;\n",
              "    }\n",
              "</style>\n",
              "<table border=\"1\" class=\"dataframe\">\n",
              "  <thead>\n",
              "    <tr style=\"text-align: right;\">\n",
              "      <th></th>\n",
              "      <th>BALANCE</th>\n",
              "      <th>PURCHASES</th>\n",
              "      <th>PRC_FULL_PAYMENT</th>\n",
              "    </tr>\n",
              "  </thead>\n",
              "  <tbody>\n",
              "    <tr>\n",
              "      <th>0</th>\n",
              "      <td>40.900749</td>\n",
              "      <td>95.40</td>\n",
              "      <td>0.000000</td>\n",
              "    </tr>\n",
              "    <tr>\n",
              "      <th>1</th>\n",
              "      <td>3202.467416</td>\n",
              "      <td>0.00</td>\n",
              "      <td>0.222222</td>\n",
              "    </tr>\n",
              "    <tr>\n",
              "      <th>2</th>\n",
              "      <td>2495.148862</td>\n",
              "      <td>773.17</td>\n",
              "      <td>0.000000</td>\n",
              "    </tr>\n",
              "    <tr>\n",
              "      <th>3</th>\n",
              "      <td>1666.670542</td>\n",
              "      <td>1499.00</td>\n",
              "      <td>0.000000</td>\n",
              "    </tr>\n",
              "    <tr>\n",
              "      <th>4</th>\n",
              "      <td>817.714335</td>\n",
              "      <td>16.00</td>\n",
              "      <td>0.000000</td>\n",
              "    </tr>\n",
              "  </tbody>\n",
              "</table>\n",
              "</div>"
            ],
            "text/plain": [
              "       BALANCE  PURCHASES  PRC_FULL_PAYMENT\n",
              "0    40.900749      95.40          0.000000\n",
              "1  3202.467416       0.00          0.222222\n",
              "2  2495.148862     773.17          0.000000\n",
              "3  1666.670542    1499.00          0.000000\n",
              "4   817.714335      16.00          0.000000"
            ]
          },
          "metadata": {
            "tags": []
          },
          "execution_count": 101
        }
      ]
    },
    {
      "cell_type": "code",
      "metadata": {
        "id": "jPebX-ut5OcR",
        "colab_type": "code",
        "colab": {
          "base_uri": "https://localhost:8080/",
          "height": 293
        },
        "outputId": "b4b35ed1-bb9c-4322-bed6-e7f7a4b0cecd"
      },
      "source": [
        "# get the sum of squared errors and find where the reduction of the errors are saturated with the increase of k\n",
        "squared_errors = []\n",
        "\n",
        "for num_iter in range(1,21):\n",
        "  km = KMeans(n_clusters=num_iter, random_state=42)\n",
        "  km.fit(X)\n",
        "  squared_errors.append(km.inertia_)\n",
        "\n",
        "# check for the best k to use\n",
        "plt.plot(squared_errors, marker = 'o')"
      ],
      "execution_count": 102,
      "outputs": [
        {
          "output_type": "execute_result",
          "data": {
            "text/plain": [
              "[<matplotlib.lines.Line2D at 0x7fc05c9db400>]"
            ]
          },
          "metadata": {
            "tags": []
          },
          "execution_count": 102
        },
        {
          "output_type": "display_data",
          "data": {
            "image/png": "[encoded data removed]",
            "text/plain": [
              "<Figure size 432x288 with 1 Axes>"
            ]
          },
          "metadata": {
            "tags": []
          }
        }
      ]
    },
    {
      "cell_type": "code",
      "metadata": {
        "id": "VrO-JZuo5TXJ",
        "colab_type": "code",
        "colab": {}
      },
      "source": [
        "# Clustering using KMeans. We choose 5 clusters\n",
        "km = KMeans(n_clusters=5, random_state=42)\n",
        "\n",
        "# Fit data to model\n",
        "km.fit(X)\n",
        "\n",
        "# Get labels\n",
        "labels = km.predict(X)\n",
        "\n",
        "# Create new dataframe with features and labels\n",
        "new_data = X.copy()\n",
        "\n",
        "# Add labels to new_data dataframe\n",
        "new_data['labels'] = labels"
      ],
      "execution_count": 0,
      "outputs": []
    },
    {
      "cell_type": "code",
      "metadata": {
        "id": "gWh2egm152yR",
        "colab_type": "code",
        "colab": {
          "base_uri": "https://localhost:8080/",
          "height": 204
        },
        "outputId": "7f83e130-b632-477b-a1a7-49c8b8f7bfb0"
      },
      "source": [
        "new_data.head()"
      ],
      "execution_count": 104,
      "outputs": [
        {
          "output_type": "execute_result",
          "data": {
            "text/html": [
              "<div>\n",
              "<style scoped>\n",
              "    .dataframe tbody tr th:only-of-type {\n",
              "        vertical-align: middle;\n",
              "    }\n",
              "\n",
              "    .dataframe tbody tr th {\n",
              "        vertical-align: top;\n",
              "    }\n",
              "\n",
              "    .dataframe thead th {\n",
              "        text-align: right;\n",
              "    }\n",
              "</style>\n",
              "<table border=\"1\" class=\"dataframe\">\n",
              "  <thead>\n",
              "    <tr style=\"text-align: right;\">\n",
              "      <th></th>\n",
              "      <th>BALANCE</th>\n",
              "      <th>PURCHASES</th>\n",
              "      <th>PRC_FULL_PAYMENT</th>\n",
              "      <th>labels</th>\n",
              "    </tr>\n",
              "  </thead>\n",
              "  <tbody>\n",
              "    <tr>\n",
              "      <th>0</th>\n",
              "      <td>40.900749</td>\n",
              "      <td>95.40</td>\n",
              "      <td>0.000000</td>\n",
              "      <td>0</td>\n",
              "    </tr>\n",
              "    <tr>\n",
              "      <th>1</th>\n",
              "      <td>3202.467416</td>\n",
              "      <td>0.00</td>\n",
              "      <td>0.222222</td>\n",
              "      <td>3</td>\n",
              "    </tr>\n",
              "    <tr>\n",
              "      <th>2</th>\n",
              "      <td>2495.148862</td>\n",
              "      <td>773.17</td>\n",
              "      <td>0.000000</td>\n",
              "      <td>3</td>\n",
              "    </tr>\n",
              "    <tr>\n",
              "      <th>3</th>\n",
              "      <td>1666.670542</td>\n",
              "      <td>1499.00</td>\n",
              "      <td>0.000000</td>\n",
              "      <td>0</td>\n",
              "    </tr>\n",
              "    <tr>\n",
              "      <th>4</th>\n",
              "      <td>817.714335</td>\n",
              "      <td>16.00</td>\n",
              "      <td>0.000000</td>\n",
              "      <td>0</td>\n",
              "    </tr>\n",
              "  </tbody>\n",
              "</table>\n",
              "</div>"
            ],
            "text/plain": [
              "       BALANCE  PURCHASES  PRC_FULL_PAYMENT  labels\n",
              "0    40.900749      95.40          0.000000       0\n",
              "1  3202.467416       0.00          0.222222       3\n",
              "2  2495.148862     773.17          0.000000       3\n",
              "3  1666.670542    1499.00          0.000000       0\n",
              "4   817.714335      16.00          0.000000       0"
            ]
          },
          "metadata": {
            "tags": []
          },
          "execution_count": 104
        }
      ]
    },
    {
      "cell_type": "code",
      "metadata": {
        "id": "tzClhJt055Jh",
        "colab_type": "code",
        "colab": {
          "base_uri": "https://localhost:8080/",
          "height": 297
        },
        "outputId": "d3febed6-19f3-4f16-a8f7-4ab8d630b742"
      },
      "source": [
        "# Cluster 0\n",
        "cluster_0 = new_data[new_data['labels']==0]\n",
        "cluster_0.describe()\n",
        "\n",
        "#Description from mean: low balance, low purchase, high percent of full payment - NEWBIES"
      ],
      "execution_count": 105,
      "outputs": [
        {
          "output_type": "execute_result",
          "data": {
            "text/html": [
              "<div>\n",
              "<style scoped>\n",
              "    .dataframe tbody tr th:only-of-type {\n",
              "        vertical-align: middle;\n",
              "    }\n",
              "\n",
              "    .dataframe tbody tr th {\n",
              "        vertical-align: top;\n",
              "    }\n",
              "\n",
              "    .dataframe thead th {\n",
              "        text-align: right;\n",
              "    }\n",
              "</style>\n",
              "<table border=\"1\" class=\"dataframe\">\n",
              "  <thead>\n",
              "    <tr style=\"text-align: right;\">\n",
              "      <th></th>\n",
              "      <th>BALANCE</th>\n",
              "      <th>PURCHASES</th>\n",
              "      <th>PRC_FULL_PAYMENT</th>\n",
              "      <th>labels</th>\n",
              "    </tr>\n",
              "  </thead>\n",
              "  <tbody>\n",
              "    <tr>\n",
              "      <th>count</th>\n",
              "      <td>6077.000000</td>\n",
              "      <td>6077.000000</td>\n",
              "      <td>6077.000000</td>\n",
              "      <td>6077.0</td>\n",
              "    </tr>\n",
              "    <tr>\n",
              "      <th>mean</th>\n",
              "      <td>531.174959</td>\n",
              "      <td>605.741848</td>\n",
              "      <td>0.194756</td>\n",
              "      <td>0.0</td>\n",
              "    </tr>\n",
              "    <tr>\n",
              "      <th>std</th>\n",
              "      <td>535.029390</td>\n",
              "      <td>731.863047</td>\n",
              "      <td>0.316201</td>\n",
              "      <td>0.0</td>\n",
              "    </tr>\n",
              "    <tr>\n",
              "      <th>min</th>\n",
              "      <td>0.000000</td>\n",
              "      <td>0.000000</td>\n",
              "      <td>0.000000</td>\n",
              "      <td>0.0</td>\n",
              "    </tr>\n",
              "    <tr>\n",
              "      <th>25%</th>\n",
              "      <td>55.681483</td>\n",
              "      <td>61.710000</td>\n",
              "      <td>0.000000</td>\n",
              "      <td>0.0</td>\n",
              "    </tr>\n",
              "    <tr>\n",
              "      <th>50%</th>\n",
              "      <td>299.531528</td>\n",
              "      <td>332.740000</td>\n",
              "      <td>0.000000</td>\n",
              "      <td>0.0</td>\n",
              "    </tr>\n",
              "    <tr>\n",
              "      <th>75%</th>\n",
              "      <td>987.102704</td>\n",
              "      <td>863.970000</td>\n",
              "      <td>0.250000</td>\n",
              "      <td>0.0</td>\n",
              "    </tr>\n",
              "    <tr>\n",
              "      <th>max</th>\n",
              "      <td>1765.502751</td>\n",
              "      <td>3520.000000</td>\n",
              "      <td>1.000000</td>\n",
              "      <td>0.0</td>\n",
              "    </tr>\n",
              "  </tbody>\n",
              "</table>\n",
              "</div>"
            ],
            "text/plain": [
              "           BALANCE    PURCHASES  PRC_FULL_PAYMENT  labels\n",
              "count  6077.000000  6077.000000       6077.000000  6077.0\n",
              "mean    531.174959   605.741848          0.194756     0.0\n",
              "std     535.029390   731.863047          0.316201     0.0\n",
              "min       0.000000     0.000000          0.000000     0.0\n",
              "25%      55.681483    61.710000          0.000000     0.0\n",
              "50%     299.531528   332.740000          0.000000     0.0\n",
              "75%     987.102704   863.970000          0.250000     0.0\n",
              "max    1765.502751  3520.000000          1.000000     0.0"
            ]
          },
          "metadata": {
            "tags": []
          },
          "execution_count": 105
        }
      ]
    },
    {
      "cell_type": "code",
      "metadata": {
        "id": "_SHxZ5_c7Sad",
        "colab_type": "code",
        "colab": {
          "base_uri": "https://localhost:8080/",
          "height": 297
        },
        "outputId": "53a71078-54dd-4ef1-8706-214616a223ba"
      },
      "source": [
        "# Cluster 1\n",
        "cluster_1 = new_data[new_data['labels']==1]\n",
        "cluster_1.describe()\n",
        "\n",
        "#Description from mean: mid balance, high purchase, high percent of full payment - FEELING BIG TIME "
      ],
      "execution_count": 106,
      "outputs": [
        {
          "output_type": "execute_result",
          "data": {
            "text/html": [
              "<div>\n",
              "<style scoped>\n",
              "    .dataframe tbody tr th:only-of-type {\n",
              "        vertical-align: middle;\n",
              "    }\n",
              "\n",
              "    .dataframe tbody tr th {\n",
              "        vertical-align: top;\n",
              "    }\n",
              "\n",
              "    .dataframe thead th {\n",
              "        text-align: right;\n",
              "    }\n",
              "</style>\n",
              "<table border=\"1\" class=\"dataframe\">\n",
              "  <thead>\n",
              "    <tr style=\"text-align: right;\">\n",
              "      <th></th>\n",
              "      <th>BALANCE</th>\n",
              "      <th>PURCHASES</th>\n",
              "      <th>PRC_FULL_PAYMENT</th>\n",
              "      <th>labels</th>\n",
              "    </tr>\n",
              "  </thead>\n",
              "  <tbody>\n",
              "    <tr>\n",
              "      <th>count</th>\n",
              "      <td>24.000000</td>\n",
              "      <td>24.000000</td>\n",
              "      <td>24.000000</td>\n",
              "      <td>24.0</td>\n",
              "    </tr>\n",
              "    <tr>\n",
              "      <th>mean</th>\n",
              "      <td>5390.389571</td>\n",
              "      <td>27690.865833</td>\n",
              "      <td>0.493845</td>\n",
              "      <td>1.0</td>\n",
              "    </tr>\n",
              "    <tr>\n",
              "      <th>std</th>\n",
              "      <td>4322.133830</td>\n",
              "      <td>8068.491163</td>\n",
              "      <td>0.418675</td>\n",
              "      <td>0.0</td>\n",
              "    </tr>\n",
              "    <tr>\n",
              "      <th>min</th>\n",
              "      <td>1268.809031</td>\n",
              "      <td>17409.210000</td>\n",
              "      <td>0.000000</td>\n",
              "      <td>1.0</td>\n",
              "    </tr>\n",
              "    <tr>\n",
              "      <th>25%</th>\n",
              "      <td>2741.523040</td>\n",
              "      <td>22078.815000</td>\n",
              "      <td>0.083333</td>\n",
              "      <td>1.0</td>\n",
              "    </tr>\n",
              "    <tr>\n",
              "      <th>50%</th>\n",
              "      <td>3422.898250</td>\n",
              "      <td>26008.730000</td>\n",
              "      <td>0.458333</td>\n",
              "      <td>1.0</td>\n",
              "    </tr>\n",
              "    <tr>\n",
              "      <th>75%</th>\n",
              "      <td>6817.133432</td>\n",
              "      <td>31609.457500</td>\n",
              "      <td>0.937500</td>\n",
              "      <td>1.0</td>\n",
              "    </tr>\n",
              "    <tr>\n",
              "      <th>max</th>\n",
              "      <td>19043.138560</td>\n",
              "      <td>49039.570000</td>\n",
              "      <td>1.000000</td>\n",
              "      <td>1.0</td>\n",
              "    </tr>\n",
              "  </tbody>\n",
              "</table>\n",
              "</div>"
            ],
            "text/plain": [
              "            BALANCE     PURCHASES  PRC_FULL_PAYMENT  labels\n",
              "count     24.000000     24.000000         24.000000    24.0\n",
              "mean    5390.389571  27690.865833          0.493845     1.0\n",
              "std     4322.133830   8068.491163          0.418675     0.0\n",
              "min     1268.809031  17409.210000          0.000000     1.0\n",
              "25%     2741.523040  22078.815000          0.083333     1.0\n",
              "50%     3422.898250  26008.730000          0.458333     1.0\n",
              "75%     6817.133432  31609.457500          0.937500     1.0\n",
              "max    19043.138560  49039.570000          1.000000     1.0"
            ]
          },
          "metadata": {
            "tags": []
          },
          "execution_count": 106
        }
      ]
    },
    {
      "cell_type": "code",
      "metadata": {
        "id": "ePreLUyA8Fo5",
        "colab_type": "code",
        "colab": {
          "base_uri": "https://localhost:8080/",
          "height": 297
        },
        "outputId": "2810d063-e594-47f9-a691-1e0cac0edc2f"
      },
      "source": [
        "# Cluster 2\n",
        "cluster_2 = new_data[new_data['labels']==2]\n",
        "cluster_2.describe()\n",
        "\n",
        "#Description high balance, low purchase, low percent full payment - TITO MONG KURIPOT"
      ],
      "execution_count": 107,
      "outputs": [
        {
          "output_type": "execute_result",
          "data": {
            "text/html": [
              "<div>\n",
              "<style scoped>\n",
              "    .dataframe tbody tr th:only-of-type {\n",
              "        vertical-align: middle;\n",
              "    }\n",
              "\n",
              "    .dataframe tbody tr th {\n",
              "        vertical-align: top;\n",
              "    }\n",
              "\n",
              "    .dataframe thead th {\n",
              "        text-align: right;\n",
              "    }\n",
              "</style>\n",
              "<table border=\"1\" class=\"dataframe\">\n",
              "  <thead>\n",
              "    <tr style=\"text-align: right;\">\n",
              "      <th></th>\n",
              "      <th>BALANCE</th>\n",
              "      <th>PURCHASES</th>\n",
              "      <th>PRC_FULL_PAYMENT</th>\n",
              "      <th>labels</th>\n",
              "    </tr>\n",
              "  </thead>\n",
              "  <tbody>\n",
              "    <tr>\n",
              "      <th>count</th>\n",
              "      <td>593.000000</td>\n",
              "      <td>593.000000</td>\n",
              "      <td>593.000000</td>\n",
              "      <td>593.0</td>\n",
              "    </tr>\n",
              "    <tr>\n",
              "      <th>mean</th>\n",
              "      <td>7337.439619</td>\n",
              "      <td>1140.272681</td>\n",
              "      <td>0.006666</td>\n",
              "      <td>2.0</td>\n",
              "    </tr>\n",
              "    <tr>\n",
              "      <th>std</th>\n",
              "      <td>2150.848707</td>\n",
              "      <td>1659.624850</td>\n",
              "      <td>0.027627</td>\n",
              "      <td>0.0</td>\n",
              "    </tr>\n",
              "    <tr>\n",
              "      <th>min</th>\n",
              "      <td>4925.502001</td>\n",
              "      <td>0.000000</td>\n",
              "      <td>0.000000</td>\n",
              "      <td>2.0</td>\n",
              "    </tr>\n",
              "    <tr>\n",
              "      <th>25%</th>\n",
              "      <td>5805.320790</td>\n",
              "      <td>0.000000</td>\n",
              "      <td>0.000000</td>\n",
              "      <td>2.0</td>\n",
              "    </tr>\n",
              "    <tr>\n",
              "      <th>50%</th>\n",
              "      <td>6758.987905</td>\n",
              "      <td>362.360000</td>\n",
              "      <td>0.000000</td>\n",
              "      <td>2.0</td>\n",
              "    </tr>\n",
              "    <tr>\n",
              "      <th>75%</th>\n",
              "      <td>8099.879299</td>\n",
              "      <td>1627.690000</td>\n",
              "      <td>0.000000</td>\n",
              "      <td>2.0</td>\n",
              "    </tr>\n",
              "    <tr>\n",
              "      <th>max</th>\n",
              "      <td>18495.558550</td>\n",
              "      <td>9792.230000</td>\n",
              "      <td>0.250000</td>\n",
              "      <td>2.0</td>\n",
              "    </tr>\n",
              "  </tbody>\n",
              "</table>\n",
              "</div>"
            ],
            "text/plain": [
              "            BALANCE    PURCHASES  PRC_FULL_PAYMENT  labels\n",
              "count    593.000000   593.000000        593.000000   593.0\n",
              "mean    7337.439619  1140.272681          0.006666     2.0\n",
              "std     2150.848707  1659.624850          0.027627     0.0\n",
              "min     4925.502001     0.000000          0.000000     2.0\n",
              "25%     5805.320790     0.000000          0.000000     2.0\n",
              "50%     6758.987905   362.360000          0.000000     2.0\n",
              "75%     8099.879299  1627.690000          0.000000     2.0\n",
              "max    18495.558550  9792.230000          0.250000     2.0"
            ]
          },
          "metadata": {
            "tags": []
          },
          "execution_count": 107
        }
      ]
    },
    {
      "cell_type": "code",
      "metadata": {
        "id": "auRBaw8Q8Ykw",
        "colab_type": "code",
        "colab": {
          "base_uri": "https://localhost:8080/",
          "height": 297
        },
        "outputId": "293d592c-4c8d-40f7-b4d6-3615200ffe2d"
      },
      "source": [
        "# Cluster 3\n",
        "cluster_3 = new_data[new_data['labels']==3]\n",
        "cluster_3.describe()\n",
        "\n",
        "#Description mid balance, low purchase, low percent full payment - SWIPER NOT SWIPING"
      ],
      "execution_count": 108,
      "outputs": [
        {
          "output_type": "execute_result",
          "data": {
            "text/html": [
              "<div>\n",
              "<style scoped>\n",
              "    .dataframe tbody tr th:only-of-type {\n",
              "        vertical-align: middle;\n",
              "    }\n",
              "\n",
              "    .dataframe tbody tr th {\n",
              "        vertical-align: top;\n",
              "    }\n",
              "\n",
              "    .dataframe thead th {\n",
              "        text-align: right;\n",
              "    }\n",
              "</style>\n",
              "<table border=\"1\" class=\"dataframe\">\n",
              "  <thead>\n",
              "    <tr style=\"text-align: right;\">\n",
              "      <th></th>\n",
              "      <th>BALANCE</th>\n",
              "      <th>PURCHASES</th>\n",
              "      <th>PRC_FULL_PAYMENT</th>\n",
              "      <th>labels</th>\n",
              "    </tr>\n",
              "  </thead>\n",
              "  <tbody>\n",
              "    <tr>\n",
              "      <th>count</th>\n",
              "      <td>1754.000000</td>\n",
              "      <td>1754.000000</td>\n",
              "      <td>1754.000000</td>\n",
              "      <td>1754.0</td>\n",
              "    </tr>\n",
              "    <tr>\n",
              "      <th>mean</th>\n",
              "      <td>2989.045398</td>\n",
              "      <td>586.873330</td>\n",
              "      <td>0.011377</td>\n",
              "      <td>3.0</td>\n",
              "    </tr>\n",
              "    <tr>\n",
              "      <th>std</th>\n",
              "      <td>943.685672</td>\n",
              "      <td>790.127679</td>\n",
              "      <td>0.040083</td>\n",
              "      <td>0.0</td>\n",
              "    </tr>\n",
              "    <tr>\n",
              "      <th>min</th>\n",
              "      <td>1756.206467</td>\n",
              "      <td>0.000000</td>\n",
              "      <td>0.000000</td>\n",
              "      <td>3.0</td>\n",
              "    </tr>\n",
              "    <tr>\n",
              "      <th>25%</th>\n",
              "      <td>2198.364660</td>\n",
              "      <td>0.000000</td>\n",
              "      <td>0.000000</td>\n",
              "      <td>3.0</td>\n",
              "    </tr>\n",
              "    <tr>\n",
              "      <th>50%</th>\n",
              "      <td>2756.202231</td>\n",
              "      <td>206.000000</td>\n",
              "      <td>0.000000</td>\n",
              "      <td>3.0</td>\n",
              "    </tr>\n",
              "    <tr>\n",
              "      <th>75%</th>\n",
              "      <td>3669.548515</td>\n",
              "      <td>932.622500</td>\n",
              "      <td>0.000000</td>\n",
              "      <td>3.0</td>\n",
              "    </tr>\n",
              "    <tr>\n",
              "      <th>max</th>\n",
              "      <td>5271.415483</td>\n",
              "      <td>3525.370000</td>\n",
              "      <td>0.500000</td>\n",
              "      <td>3.0</td>\n",
              "    </tr>\n",
              "  </tbody>\n",
              "</table>\n",
              "</div>"
            ],
            "text/plain": [
              "           BALANCE    PURCHASES  PRC_FULL_PAYMENT  labels\n",
              "count  1754.000000  1754.000000       1754.000000  1754.0\n",
              "mean   2989.045398   586.873330          0.011377     3.0\n",
              "std     943.685672   790.127679          0.040083     0.0\n",
              "min    1756.206467     0.000000          0.000000     3.0\n",
              "25%    2198.364660     0.000000          0.000000     3.0\n",
              "50%    2756.202231   206.000000          0.000000     3.0\n",
              "75%    3669.548515   932.622500          0.000000     3.0\n",
              "max    5271.415483  3525.370000          0.500000     3.0"
            ]
          },
          "metadata": {
            "tags": []
          },
          "execution_count": 108
        }
      ]
    },
    {
      "cell_type": "code",
      "metadata": {
        "id": "y7uAcpTD9M8D",
        "colab_type": "code",
        "colab": {
          "base_uri": "https://localhost:8080/",
          "height": 297
        },
        "outputId": "4cacbd47-bc53-4a97-f68f-cc6b90a82d31"
      },
      "source": [
        "# Cluster 4\n",
        "cluster_4 = new_data[new_data['labels']==4]\n",
        "cluster_4.describe()\n",
        "\n",
        "#Description mid balance, mid purchase, high percent payment - AVERAGE JOE "
      ],
      "execution_count": 110,
      "outputs": [
        {
          "output_type": "execute_result",
          "data": {
            "text/html": [
              "<div>\n",
              "<style scoped>\n",
              "    .dataframe tbody tr th:only-of-type {\n",
              "        vertical-align: middle;\n",
              "    }\n",
              "\n",
              "    .dataframe tbody tr th {\n",
              "        vertical-align: top;\n",
              "    }\n",
              "\n",
              "    .dataframe thead th {\n",
              "        text-align: right;\n",
              "    }\n",
              "</style>\n",
              "<table border=\"1\" class=\"dataframe\">\n",
              "  <thead>\n",
              "    <tr style=\"text-align: right;\">\n",
              "      <th></th>\n",
              "      <th>BALANCE</th>\n",
              "      <th>PURCHASES</th>\n",
              "      <th>PRC_FULL_PAYMENT</th>\n",
              "      <th>labels</th>\n",
              "    </tr>\n",
              "  </thead>\n",
              "  <tbody>\n",
              "    <tr>\n",
              "      <th>count</th>\n",
              "      <td>502.000000</td>\n",
              "      <td>502.000000</td>\n",
              "      <td>502.000000</td>\n",
              "      <td>502.0</td>\n",
              "    </tr>\n",
              "    <tr>\n",
              "      <th>mean</th>\n",
              "      <td>2093.312373</td>\n",
              "      <td>5831.577191</td>\n",
              "      <td>0.311656</td>\n",
              "      <td>4.0</td>\n",
              "    </tr>\n",
              "    <tr>\n",
              "      <th>std</th>\n",
              "      <td>1999.267229</td>\n",
              "      <td>2568.561455</td>\n",
              "      <td>0.391906</td>\n",
              "      <td>0.0</td>\n",
              "    </tr>\n",
              "    <tr>\n",
              "      <th>min</th>\n",
              "      <td>12.659909</td>\n",
              "      <td>3145.790000</td>\n",
              "      <td>0.000000</td>\n",
              "      <td>4.0</td>\n",
              "    </tr>\n",
              "    <tr>\n",
              "      <th>25%</th>\n",
              "      <td>592.429408</td>\n",
              "      <td>3978.860000</td>\n",
              "      <td>0.000000</td>\n",
              "      <td>4.0</td>\n",
              "    </tr>\n",
              "    <tr>\n",
              "      <th>50%</th>\n",
              "      <td>1475.193756</td>\n",
              "      <td>4916.540000</td>\n",
              "      <td>0.083333</td>\n",
              "      <td>4.0</td>\n",
              "    </tr>\n",
              "    <tr>\n",
              "      <th>75%</th>\n",
              "      <td>2982.717022</td>\n",
              "      <td>6796.680000</td>\n",
              "      <td>0.741071</td>\n",
              "      <td>4.0</td>\n",
              "    </tr>\n",
              "    <tr>\n",
              "      <th>max</th>\n",
              "      <td>11642.601560</td>\n",
              "      <td>15704.040000</td>\n",
              "      <td>1.000000</td>\n",
              "      <td>4.0</td>\n",
              "    </tr>\n",
              "  </tbody>\n",
              "</table>\n",
              "</div>"
            ],
            "text/plain": [
              "            BALANCE     PURCHASES  PRC_FULL_PAYMENT  labels\n",
              "count    502.000000    502.000000        502.000000   502.0\n",
              "mean    2093.312373   5831.577191          0.311656     4.0\n",
              "std     1999.267229   2568.561455          0.391906     0.0\n",
              "min       12.659909   3145.790000          0.000000     4.0\n",
              "25%      592.429408   3978.860000          0.000000     4.0\n",
              "50%     1475.193756   4916.540000          0.083333     4.0\n",
              "75%     2982.717022   6796.680000          0.741071     4.0\n",
              "max    11642.601560  15704.040000          1.000000     4.0"
            ]
          },
          "metadata": {
            "tags": []
          },
          "execution_count": 110
        }
      ]
    },
    {
      "cell_type": "code",
      "metadata": {
        "id": "shcABolrJQAh",
        "colab_type": "code",
        "colab": {}
      },
      "source": [
        ""
      ],
      "execution_count": 0,
      "outputs": []
    }
  ]
}